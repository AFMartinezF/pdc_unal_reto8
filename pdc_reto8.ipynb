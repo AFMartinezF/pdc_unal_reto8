{
  "nbformat": 4,
  "nbformat_minor": 0,
  "metadata": {
    "colab": {
      "provenance": []
    },
    "kernelspec": {
      "name": "python3",
      "display_name": "Python 3"
    },
    "language_info": {
      "name": "python"
    }
  },
  "cells": [
    {
      "cell_type": "markdown",
      "source": [
        "1. De los retos anteriores selecione 3 funciones y escribalas en forma de lambdas.\n",
        "\n",
        "\n"
      ],
      "metadata": {
        "id": "gIbd6XOKx3IY"
      }
    },
    {
      "cell_type": "code",
      "source": [
        "# Del reto 5 ejercicio 5\n",
        "import math\n",
        "\n",
        "# Función lambda para calcular el promedio aritmético de una lista de números\n",
        "calcular_promedio_aritmético = lambda numeros: sum(numeros) / len(numeros)\n",
        "\n",
        "# Función lambda para calcular la potencia del mayor número elevado al menor número de la lista\n",
        "calcular_potencia_menor_mayor = lambda numeros: max(numeros) ** min(numeros)\n",
        "\n",
        "# Función lambda para calcular la raíz cúbica del menor número de la lista\n",
        "calcular_raíz_cúbica_menor = lambda numeros: min(numeros) ** (1/3)\n",
        "\n",
        "if __name__ == \"__main__\":\n",
        "\n",
        "    numeros = [float(num) for num in input(\"Ingrese 5 números reales separados por espacios: \").split()]\n",
        "    # Calculamos y mostramos el promedio aritmético de los números ingresados\n",
        "    print(f\"Promedio aritmético: {calcular_promedio_aritmético(numeros)}\")\n",
        "    # Calculamos y mostramos la potencia del mayor número elevado al menor número\n",
        "    print(f\"Potencia del mayor número elevado al menor número: {calcular_potencia_menor_mayor(numeros)}\")\n",
        "    # Calculamos y mostramos la raíz cúbica del menor número\n",
        "    print(f\"Raíz cúbica del menor número: {calcular_raíz_cúbica_menor(numeros)}\")"
      ],
      "metadata": {
        "colab": {
          "base_uri": "https://localhost:8080/"
        },
        "id": "SQVF4wIl33nq",
        "outputId": "d4903bae-1ff2-47b1-a502-82d48c24f364"
      },
      "execution_count": null,
      "outputs": [
        {
          "output_type": "stream",
          "name": "stdout",
          "text": [
            "Ingrese 5 números reales separados por espacios: 2 2 2 4 2\n",
            "Promedio aritmético: 2.4\n",
            "Potencia del mayor número elevado al menor número: 16.0\n",
            "Raíz cúbica del menor número: 1.2599210498948732\n"
          ]
        }
      ]
    },
    {
      "cell_type": "markdown",
      "source": [
        "2. De los retos anteriores selecione 3 funciones y escribalas con argumentos no definidos (*args)\n"
      ],
      "metadata": {
        "id": "6lsFQLDW28Li"
      }
    },
    {
      "cell_type": "code",
      "source": [
        "#Del reto 5 ejercicio 1\n",
        "\n",
        "import math\n",
        "\n",
        "def calcular_volumen(*args)-> float:\n",
        "    # Asumimos que los argumentos son proporcionados en el orden correcto\n",
        "    r1, r2, h = args\n",
        "\n",
        "    volumen_esfera = (4/3) * math.pi * (r1 ** 3)\n",
        "    volumen_cono = (1/3) * math.pi * (r2 ** 2) * h\n",
        "    # Devolvemos la suma de ambos volúmenes\n",
        "    return volumen_esfera + volumen_cono\n",
        "\n",
        "def calcular_area_superficial(*args)-> float:\n",
        "    # Asumimos que los argumentos son proporcionados en el orden correcto\n",
        "    r1, r2, h = args\n",
        "\n",
        "    area_esfera = 4 * math.pi * (r1 ** 2)\n",
        "    area_cono = math.pi * r2 * (r2 + math.sqrt(h**2 + r2**2))\n",
        "    # Devolvemos la suma de ambas areas\n",
        "    return area_esfera + area_cono\n",
        "\n",
        "def main():\n",
        "    # Ingresar el radio de la esfera\n",
        "    r1 = float(input(\"Ingrese el radio de la esfera: \"))\n",
        "\n",
        "    # Ingresar el radio de la base del cono y su altura\n",
        "    r2 = float(input(\"Ingrese el radio de la base del cono: \"))\n",
        "    h = float(input(\"Ingrese la altura del cono: \"))\n",
        "\n",
        "    #Calcular el volumen de los elementos\n",
        "    volumen = calcular_volumen(r1,r2, h)\n",
        "    print(f\"El volumen total es: {volumen:.2f}\")\n",
        "\n",
        "    #Calcular el área superficial de los elementos\n",
        "    area_superficial = calcular_area_superficial(r1,r2, h)\n",
        "    print(f\"El área superficial total es: {area_superficial:.2f}\")\n",
        "\n",
        "if __name__ == \"__main__\":\n",
        "    main()"
      ],
      "metadata": {
        "colab": {
          "base_uri": "https://localhost:8080/"
        },
        "id": "FMJkG41s8A57",
        "outputId": "d8f22c90-132b-484d-bb33-37cbf560f0c6"
      },
      "execution_count": null,
      "outputs": [
        {
          "output_type": "stream",
          "name": "stdout",
          "text": [
            "Ingrese el radio de la esfera: 2\n",
            "Ingrese el radio de la base del cono: 1\n",
            "Ingrese la altura del cono: 1\n",
            "El volumen total es: 34.56\n",
            "El área superficial total es: 57.85\n"
          ]
        }
      ]
    },
    {
      "cell_type": "code",
      "source": [
        "#Del reto 5 ejercicio 3\n",
        "\n",
        "def calcular_carne_aves(*args)-> float:\n",
        "    peso_gallina = 6  # kilos\n",
        "    peso_gallo = 7   # kilos\n",
        "    peso_pollito = 1 # kilo\n",
        "\n",
        "    # Asumimos que los argumentos son proporcionados en el orden correcto\n",
        "    N, M, K = args\n",
        "\n",
        "    total_carne = (\n",
        "        N * peso_gallina +\n",
        "        M * peso_gallo +\n",
        "        K * peso_pollito\n",
        "    )\n",
        "\n",
        "    return total_carne\n",
        "\n",
        "if __name__ == \"__main__\":\n",
        "    #Ejemplo de uso de la función con 3 gallinas, 4 gallos y 0 pollitos\n",
        "    N = 3\n",
        "    M = 4\n",
        "    K = 0\n",
        "    total_carne = calcular_carne_aves(N, M, K)\n",
        "    print(f\"La cantidad total de carne de aves es: {total_carne} kilos\")"
      ],
      "metadata": {
        "colab": {
          "base_uri": "https://localhost:8080/"
        },
        "id": "2mU-9Lj79TXj",
        "outputId": "6a506884-2f9a-485c-9024-87435da36fa0"
      },
      "execution_count": null,
      "outputs": [
        {
          "output_type": "stream",
          "name": "stdout",
          "text": [
            "La cantidad total de carne de aves es: 46 kilos\n"
          ]
        }
      ]
    },
    {
      "cell_type": "markdown",
      "source": [
        "3. Escriba una función recursiva para calcular la operación de la potencia."
      ],
      "metadata": {
        "id": "qbfcDFJUxhV5"
      }
    },
    {
      "cell_type": "code",
      "source": [
        "def potencia_recursiva(base: float, exponente:float) -> float:\n",
        "    \"\"\"\n",
        "  Calcula la potencia de un número utilizando recursión.\n",
        "\n",
        "  Args:\n",
        "      base (float): El número que se va a elevar.\n",
        "      exponente (float): El exponente al que se va a elevar la base.\n",
        "\n",
        "  Returns:\n",
        "      float: El resultado de base elevado a exponente.\n",
        "  \"\"\"\n",
        "\n",
        "# Caso base: cualquier número elevado a 0 es 1\n",
        "    if exponente == 0:\n",
        "        return 1\n",
        "# Caso recursivo: si el exponente es mayor que 0, multiplicamos la base por el resultado\n",
        "# de la potencia recursiva con el exponente disminuido en 1\n",
        "    elif exponente > 0:\n",
        "        return base * potencia_recursiva(base, exponente - 1)\n",
        "\n",
        "if __name__ == \"__main__\":\n",
        "    # Pedimos al usuario que ingrese la base y el exponente\n",
        "    base = float(input(\"Ingrese la base: \"))\n",
        "    exponente = float(input(\"Ingrese el exponente: \"))\n",
        "\n",
        "    # Llamamos a la función recursiva para calcular la potencia\n",
        "    resultado = potencia_recursiva(base, exponente)\n",
        "\n",
        "    # Imprimimos el resultado\n",
        "    print(f\"La potencia de {base} elevado a la {exponente} es: {resultado}\")"
      ],
      "metadata": {
        "colab": {
          "base_uri": "https://localhost:8080/"
        },
        "id": "G9yJgGJq9sFS",
        "outputId": "8015fc08-dd30-4721-8681-bd28dbc61c63"
      },
      "execution_count": null,
      "outputs": [
        {
          "output_type": "stream",
          "name": "stdout",
          "text": [
            "Ingrese la base: 2\n",
            "Ingrese el exponente: 5\n",
            "La potencia de 2.0 elevado a la 5.0 es: 32.0\n"
          ]
        }
      ]
    },
    {
      "cell_type": "markdown",
      "source": [
        "4. Utilice la siguiente plantilla de code para contar el tiempo. Realice pruebas para calcular fibonacci con iteración o con recursión. Determine desde que número de la serie la diferencia de tiempo se vuelve significativa **Importante:** Revisar este [hilo](https://stackoverflow.com/questions/8220801/how-to-use-timeit-module).:"
      ],
      "metadata": {
        "id": "QOcB_FI7ACXa"
      }
    },
    {
      "cell_type": "code",
      "source": [
        "import time\n",
        "\n",
        "def fibo(n : int )-> int:\n",
        "  i : int = 1\n",
        "  # caso base\n",
        "  n1 : int = 0\n",
        "  n2 : int = 1\n",
        "  while(i <= n):\n",
        "    # Condicion\n",
        "    sum_fibo = n1 + n2\n",
        "    #print(sum_fibo)\n",
        "    # Actualizacion\n",
        "    n1 = n2\n",
        "    n2 = sum_fibo\n",
        "    i += 1\n",
        "  return sum_fibo\n",
        "\n",
        "def fibo_recursivo(n : int )-> int:\n",
        "  if n <=1:\n",
        "    # caso base\n",
        "    return 1\n",
        "  else:\n",
        "    # condicion\n",
        "    return fibo_recursivo(n-1)+fibo_recursivo(n-2)\n",
        "\n",
        "if __name__ == \"__main__\":\n",
        "  n = int(input(\"Ingrese el número hasta donde quiere calcular la serie de Fibonacci: \"))\n",
        "  start_time = time.time()\n",
        "  print(fibo(n))\n",
        "  end_time = time.time()\n",
        "  iter_time = end_time - start_time\n",
        "\n",
        "  start_time = time.time()\n",
        "  print(fibo_recursivo(n))\n",
        "  end_time = time.time()\n",
        "  rec_time = end_time - start_time\n",
        "\n",
        "  print(f\"El tiempo de ejecución de la función iterativa es {iter_time}\")\n",
        "  print(f\"El tiempo de ejecución de la función recursiva es: {rec_time}\")"
      ],
      "metadata": {
        "colab": {
          "base_uri": "https://localhost:8080/"
        },
        "id": "--nivav-_UQB",
        "outputId": "524623a8-903d-4494-ba9f-2ca5b9290adf"
      },
      "execution_count": 11,
      "outputs": [
        {
          "output_type": "stream",
          "name": "stdout",
          "text": [
            "Ingrese el número hasta donde quiere calcular la serie de Fibonacci: 5\n",
            "8\n",
            "8\n",
            "El tiempo de ejecución de la función iterativa es 0.0010356903076171875\n",
            "El tiempo de ejecución de la función recursiva es: 0.00038886070251464844\n"
          ]
        }
      ]
    },
    {
      "cell_type": "markdown",
      "source": [
        "5. Crear cuenta en [stackoverflow](https://stackoverflow.com/) y adjuntar imagen en el repo"
      ],
      "metadata": {
        "id": "VNYrKz-Ltt42"
      }
    },
    {
      "cell_type": "markdown",
      "source": [
        "## <img src=\"cuenta_stackOverflow.png\">"
      ],
      "metadata": {
        "id": "J3GO3vwEvDE1"
      }
    },
    {
      "cell_type": "markdown",
      "source": [
        "6. Cosas de adultos....ir a [linkedin](https://www.linkedin.com/) y crear perfil....NO IMPORTA que estén iniciando, si tienen tiempo para redes poco útiles como fb, insta, o tiktok tienen tiempo para crear un perfil mamalón. Dejar enlace en el repo."
      ],
      "metadata": {
        "id": "mO0GOJk_vUL1"
      }
    },
    {
      "cell_type": "markdown",
      "source": [
        "https://www.linkedin.com/in/afmartinezf/"
      ],
      "metadata": {
        "id": "mjf9lV_IvW8t"
      }
    }
  ]
}